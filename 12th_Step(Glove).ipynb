{
  "nbformat": 4,
  "nbformat_minor": 0,
  "metadata": {
    "colab": {
      "name": "12th Step(Glove).ipynb",
      "provenance": [],
      "authorship_tag": "ABX9TyPBVfy32pm2nC0pA5dHTtvj",
      "include_colab_link": true
    },
    "kernelspec": {
      "name": "python3",
      "display_name": "Python 3"
    },
    "language_info": {
      "name": "python"
    },
    "accelerator": "GPU"
  },
  "cells": [
    {
      "cell_type": "markdown",
      "metadata": {
        "id": "view-in-github",
        "colab_type": "text"
      },
      "source": [
        "<a href=\"https://colab.research.google.com/github/YeonJungHoon/NLP-/blob/main/12th_Step(Glove).ipynb\" target=\"_parent\"><img src=\"https://colab.research.google.com/assets/colab-badge.svg\" alt=\"Open In Colab\"/></a>"
      ]
    },
    {
      "cell_type": "code",
      "execution_count": 1,
      "metadata": {
        "colab": {
          "base_uri": "https://localhost:8080/"
        },
        "id": "TH2v3vQKq55c",
        "outputId": "3fbb1eb1-3bc6-4c73-d223-0e1c5f1278b5"
      },
      "outputs": [
        {
          "output_type": "stream",
          "name": "stdout",
          "text": [
            "단어 집합의 개수: 16\n"
          ]
        }
      ],
      "source": [
        "import numpy as np\n",
        "from tensorflow.keras.preprocessing.text import Tokenizer\n",
        "from tensorflow.keras.preprocessing.sequence import pad_sequences\n",
        "\n",
        "sentences = ['nice great best amazing', 'stop lies', 'pitiful nerd', 'excellent work', 'supreme quality', 'bad', 'highly respectable']\n",
        "y_train = [1, 0, 0, 1, 1, 0, 1]\n",
        "\n",
        "tokenizer = Tokenizer()\n",
        "\n",
        "tokenizer.fit_on_texts(sentences)\n",
        "vocab_size = len(tokenizer.word_index) + 1\n",
        "print(\"단어 집합의 개수: {}\".format(vocab_size))\n"
      ]
    },
    {
      "cell_type": "code",
      "source": [
        "X_encoded = tokenizer.texts_to_sequences(sentences)\n",
        "print(\"정수 인코딩 결과: {}\".format(X_encoded))\n",
        "\n",
        "max_len = max(len(word) for word in X_encoded)\n",
        "print(\"최대 길이: {}\".format(max_len))"
      ],
      "metadata": {
        "colab": {
          "base_uri": "https://localhost:8080/"
        },
        "id": "HcmXryEiuIvp",
        "outputId": "7eebe50e-c181-4f1a-b4f0-41d59219d7f4"
      },
      "execution_count": 2,
      "outputs": [
        {
          "output_type": "stream",
          "name": "stdout",
          "text": [
            "정수 인코딩 결과: [[1, 2, 3, 4], [5, 6], [7, 8], [9, 10], [11, 12], [13], [14, 15]]\n",
            "최대 길이: 4\n"
          ]
        }
      ]
    },
    {
      "cell_type": "code",
      "source": [
        "X_train = pad_sequences(X_encoded, padding = 'post' , maxlen = max_len)\n",
        "y_train = np.array(y_train)\n",
        "\n",
        "print(\"패딩 시퀀스 결과: \\n{}\".format(X_train))"
      ],
      "metadata": {
        "colab": {
          "base_uri": "https://localhost:8080/"
        },
        "id": "k8VIWM9Uu5qC",
        "outputId": "822a8e41-bdf0-4e6c-b1ad-876bdb3cda3e"
      },
      "execution_count": 32,
      "outputs": [
        {
          "output_type": "stream",
          "name": "stdout",
          "text": [
            "패딩 시퀀스 결과: \n",
            "[[ 1  2  3  4]\n",
            " [ 5  6  0  0]\n",
            " [ 7  8  0  0]\n",
            " [ 9 10  0  0]\n",
            " [11 12  0  0]\n",
            " [13  0  0  0]\n",
            " [14 15  0  0]]\n"
          ]
        }
      ]
    },
    {
      "cell_type": "code",
      "source": [
        "from tensorflow.keras.models import Sequential\n",
        "from tensorflow.keras.layers import Dense, Embedding, Flatten\n",
        "\n",
        "embedding_dim  = 4\n",
        "\n",
        "model = Sequential()\n",
        "model.add(Embedding(vocab_size, embedding_dim, input_length = max_len))\n",
        "model.add(Flatten())\n",
        "model.add(Dense(1, activation = 'sigmoid'))\n",
        "\n",
        "model.compile(optimizer = 'adam', loss = 'binary_crossentropy', metrics = ['accuracy'])\n",
        "model.fit(X_train, y_train, epochs = 100, verbose = 2)"
      ],
      "metadata": {
        "id": "IA0joNajvXV6"
      },
      "execution_count": null,
      "outputs": []
    },
    {
      "cell_type": "markdown",
      "source": [
        "#Pre-trained-Embedding(Glove)"
      ],
      "metadata": {
        "id": "q4PBtpBaweqy"
      }
    },
    {
      "cell_type": "code",
      "source": [
        "embedding_dict = dict()\n",
        "\n",
        "f = open('glove.6B.100d.txt', encoding= 'UTF-8')\n",
        "\n",
        "for line in f:\n",
        "  word_vector = line.split()\n",
        "  word = word_vector[0]\n",
        "  \n",
        "  word_vector_arr = np.asarray(word_vector[1:], dtype = 'float32')\n",
        "  embedding_dict[word] = word_vector_arr\n",
        "  \n",
        "f.close()\n",
        "\n",
        "print('%s 개의 word_vector가 있습니다.' % len(embedding_dict))\n",
        "\n"
      ],
      "metadata": {
        "colab": {
          "base_uri": "https://localhost:8080/"
        },
        "id": "q256JhG6wBXc",
        "outputId": "5506d007-2b34-4e05-f2e0-f44625444391"
      },
      "execution_count": 28,
      "outputs": [
        {
          "output_type": "stream",
          "name": "stdout",
          "text": [
            "166722 개의 word_vector가 있습니다.\n"
          ]
        }
      ]
    },
    {
      "cell_type": "code",
      "source": [
        "embedding_matrix = np.zeros((vocab_size, 100))\n",
        "print(\"임베딩 행렬의 크기: {}\".format(np.shape(embedding_matrix)))\n",
        "print('벡터의 차원 수 :',len(embedding_dict['respectable']))"
      ],
      "metadata": {
        "colab": {
          "base_uri": "https://localhost:8080/"
        },
        "id": "MLI5Vyvbt8qK",
        "outputId": "9e9aaa20-4c15-4a8c-9ed4-ab0b0dc38d53"
      },
      "execution_count": 29,
      "outputs": [
        {
          "output_type": "stream",
          "name": "stdout",
          "text": [
            "임베딩 행렬의 크기: (16, 100)\n",
            "벡터의 차원 수 : 100\n"
          ]
        }
      ]
    },
    {
      "cell_type": "code",
      "source": [
        "from pprint import pprint\n",
        "pprint(tokenizer.word_index.items())"
      ],
      "metadata": {
        "colab": {
          "base_uri": "https://localhost:8080/"
        },
        "id": "otqGyzwCuoyN",
        "outputId": "eea594ea-511b-4c62-9210-02f6c6d187e0"
      },
      "execution_count": 20,
      "outputs": [
        {
          "output_type": "stream",
          "name": "stdout",
          "text": [
            "dict_items([('nice', 1), ('great', 2), ('best', 3), ('amazing', 4), ('stop', 5), ('lies', 6), ('pitiful', 7), ('nerd', 8), ('excellent', 9), ('work', 10), ('supreme', 11), ('quality', 12), ('bad', 13), ('highly', 14), ('respectable', 15)])\n"
          ]
        }
      ]
    },
    {
      "cell_type": "code",
      "source": [
        "for word, index in tokenizer.word_index.items():\n",
        "  \n",
        "  vector_value = embedding_dict.get(word)\n",
        "  if vector_value is not None:\n",
        "    embedding_matrix[index] = vector_value\n",
        "\n",
        "  "
      ],
      "metadata": {
        "id": "CdL7-cwlvH4P"
      },
      "execution_count": 21,
      "outputs": []
    },
    {
      "cell_type": "code",
      "source": [
        "from tensorflow.keras.models import Sequential\n",
        "from tensorflow.keras.layers import Dense, Embedding, Flatten\n",
        "\n",
        "output_dim = 100\n",
        "\n",
        "model = Sequential()\n",
        "e = Embedding(vocab_size, output_dim, weights = [embedding_matrix], input_length = max_len, trainable = False)\n",
        "model.add(e) \n",
        "model.add(Flatten())\n",
        "model.add(Dense(1, activation = 'sigmoid')) # input_shape = 2D Tensor(batch_size, input_dim) --> output_shape = 2D Tensor(batch_size, units)\n",
        "model.compile(optimizer = 'adam', loss = 'binary_crossentropy', metrics = ['accuracy']) \n",
        "model.fit(X_train, y_train, epochs = 100, verbose = 2)\n",
        "\n"
      ],
      "metadata": {
        "colab": {
          "base_uri": "https://localhost:8080/"
        },
        "id": "WE70d8y0vl8V",
        "outputId": "69f0dbde-7086-418d-8ab7-e29ab339120c"
      },
      "execution_count": 33,
      "outputs": [
        {
          "output_type": "stream",
          "name": "stdout",
          "text": [
            "Epoch 1/100\n",
            "1/1 - 1s - loss: 0.6931 - accuracy: 0.4286 - 563ms/epoch - 563ms/step\n",
            "Epoch 2/100\n",
            "1/1 - 0s - loss: 0.6931 - accuracy: 0.5714 - 4ms/epoch - 4ms/step\n",
            "Epoch 3/100\n",
            "1/1 - 0s - loss: 0.6930 - accuracy: 0.5714 - 3ms/epoch - 3ms/step\n",
            "Epoch 4/100\n",
            "1/1 - 0s - loss: 0.6929 - accuracy: 0.5714 - 3ms/epoch - 3ms/step\n",
            "Epoch 5/100\n",
            "1/1 - 0s - loss: 0.6929 - accuracy: 0.5714 - 3ms/epoch - 3ms/step\n",
            "Epoch 6/100\n",
            "1/1 - 0s - loss: 0.6928 - accuracy: 0.5714 - 3ms/epoch - 3ms/step\n",
            "Epoch 7/100\n",
            "1/1 - 0s - loss: 0.6927 - accuracy: 0.5714 - 3ms/epoch - 3ms/step\n",
            "Epoch 8/100\n",
            "1/1 - 0s - loss: 0.6927 - accuracy: 0.5714 - 3ms/epoch - 3ms/step\n",
            "Epoch 9/100\n",
            "1/1 - 0s - loss: 0.6926 - accuracy: 0.5714 - 3ms/epoch - 3ms/step\n",
            "Epoch 10/100\n",
            "1/1 - 0s - loss: 0.6925 - accuracy: 0.5714 - 3ms/epoch - 3ms/step\n",
            "Epoch 11/100\n",
            "1/1 - 0s - loss: 0.6924 - accuracy: 0.5714 - 3ms/epoch - 3ms/step\n",
            "Epoch 12/100\n",
            "1/1 - 0s - loss: 0.6924 - accuracy: 0.5714 - 3ms/epoch - 3ms/step\n",
            "Epoch 13/100\n",
            "1/1 - 0s - loss: 0.6923 - accuracy: 0.5714 - 3ms/epoch - 3ms/step\n",
            "Epoch 14/100\n",
            "1/1 - 0s - loss: 0.6922 - accuracy: 0.5714 - 3ms/epoch - 3ms/step\n",
            "Epoch 15/100\n",
            "1/1 - 0s - loss: 0.6922 - accuracy: 0.5714 - 3ms/epoch - 3ms/step\n",
            "Epoch 16/100\n",
            "1/1 - 0s - loss: 0.6921 - accuracy: 0.5714 - 3ms/epoch - 3ms/step\n",
            "Epoch 17/100\n",
            "1/1 - 0s - loss: 0.6920 - accuracy: 0.5714 - 3ms/epoch - 3ms/step\n",
            "Epoch 18/100\n",
            "1/1 - 0s - loss: 0.6920 - accuracy: 0.5714 - 3ms/epoch - 3ms/step\n",
            "Epoch 19/100\n",
            "1/1 - 0s - loss: 0.6919 - accuracy: 0.5714 - 3ms/epoch - 3ms/step\n",
            "Epoch 20/100\n",
            "1/1 - 0s - loss: 0.6918 - accuracy: 0.5714 - 3ms/epoch - 3ms/step\n",
            "Epoch 21/100\n",
            "1/1 - 0s - loss: 0.6918 - accuracy: 0.5714 - 3ms/epoch - 3ms/step\n",
            "Epoch 22/100\n",
            "1/1 - 0s - loss: 0.6917 - accuracy: 0.5714 - 3ms/epoch - 3ms/step\n",
            "Epoch 23/100\n",
            "1/1 - 0s - loss: 0.6916 - accuracy: 0.5714 - 4ms/epoch - 4ms/step\n",
            "Epoch 24/100\n",
            "1/1 - 0s - loss: 0.6916 - accuracy: 0.5714 - 3ms/epoch - 3ms/step\n",
            "Epoch 25/100\n",
            "1/1 - 0s - loss: 0.6915 - accuracy: 0.5714 - 3ms/epoch - 3ms/step\n",
            "Epoch 26/100\n",
            "1/1 - 0s - loss: 0.6915 - accuracy: 0.5714 - 3ms/epoch - 3ms/step\n",
            "Epoch 27/100\n",
            "1/1 - 0s - loss: 0.6914 - accuracy: 0.5714 - 6ms/epoch - 6ms/step\n",
            "Epoch 28/100\n",
            "1/1 - 0s - loss: 0.6913 - accuracy: 0.5714 - 4ms/epoch - 4ms/step\n",
            "Epoch 29/100\n",
            "1/1 - 0s - loss: 0.6913 - accuracy: 0.5714 - 4ms/epoch - 4ms/step\n",
            "Epoch 30/100\n",
            "1/1 - 0s - loss: 0.6912 - accuracy: 0.5714 - 4ms/epoch - 4ms/step\n",
            "Epoch 31/100\n",
            "1/1 - 0s - loss: 0.6911 - accuracy: 0.5714 - 6ms/epoch - 6ms/step\n",
            "Epoch 32/100\n",
            "1/1 - 0s - loss: 0.6911 - accuracy: 0.5714 - 4ms/epoch - 4ms/step\n",
            "Epoch 33/100\n",
            "1/1 - 0s - loss: 0.6910 - accuracy: 0.5714 - 3ms/epoch - 3ms/step\n",
            "Epoch 34/100\n",
            "1/1 - 0s - loss: 0.6909 - accuracy: 0.5714 - 3ms/epoch - 3ms/step\n",
            "Epoch 35/100\n",
            "1/1 - 0s - loss: 0.6909 - accuracy: 0.5714 - 6ms/epoch - 6ms/step\n",
            "Epoch 36/100\n",
            "1/1 - 0s - loss: 0.6908 - accuracy: 0.5714 - 3ms/epoch - 3ms/step\n",
            "Epoch 37/100\n",
            "1/1 - 0s - loss: 0.6908 - accuracy: 0.5714 - 13ms/epoch - 13ms/step\n",
            "Epoch 38/100\n",
            "1/1 - 0s - loss: 0.6907 - accuracy: 0.5714 - 4ms/epoch - 4ms/step\n",
            "Epoch 39/100\n",
            "1/1 - 0s - loss: 0.6906 - accuracy: 0.5714 - 6ms/epoch - 6ms/step\n",
            "Epoch 40/100\n",
            "1/1 - 0s - loss: 0.6906 - accuracy: 0.5714 - 7ms/epoch - 7ms/step\n",
            "Epoch 41/100\n",
            "1/1 - 0s - loss: 0.6905 - accuracy: 0.5714 - 8ms/epoch - 8ms/step\n",
            "Epoch 42/100\n",
            "1/1 - 0s - loss: 0.6905 - accuracy: 0.5714 - 6ms/epoch - 6ms/step\n",
            "Epoch 43/100\n",
            "1/1 - 0s - loss: 0.6904 - accuracy: 0.5714 - 6ms/epoch - 6ms/step\n",
            "Epoch 44/100\n",
            "1/1 - 0s - loss: 0.6904 - accuracy: 0.5714 - 3ms/epoch - 3ms/step\n",
            "Epoch 45/100\n",
            "1/1 - 0s - loss: 0.6903 - accuracy: 0.5714 - 11ms/epoch - 11ms/step\n",
            "Epoch 46/100\n",
            "1/1 - 0s - loss: 0.6902 - accuracy: 0.5714 - 3ms/epoch - 3ms/step\n",
            "Epoch 47/100\n",
            "1/1 - 0s - loss: 0.6902 - accuracy: 0.5714 - 3ms/epoch - 3ms/step\n",
            "Epoch 48/100\n",
            "1/1 - 0s - loss: 0.6901 - accuracy: 0.5714 - 3ms/epoch - 3ms/step\n",
            "Epoch 49/100\n",
            "1/1 - 0s - loss: 0.6901 - accuracy: 0.5714 - 3ms/epoch - 3ms/step\n",
            "Epoch 50/100\n",
            "1/1 - 0s - loss: 0.6900 - accuracy: 0.5714 - 3ms/epoch - 3ms/step\n",
            "Epoch 51/100\n",
            "1/1 - 0s - loss: 0.6900 - accuracy: 0.5714 - 6ms/epoch - 6ms/step\n",
            "Epoch 52/100\n",
            "1/1 - 0s - loss: 0.6899 - accuracy: 0.5714 - 3ms/epoch - 3ms/step\n",
            "Epoch 53/100\n",
            "1/1 - 0s - loss: 0.6898 - accuracy: 0.5714 - 3ms/epoch - 3ms/step\n",
            "Epoch 54/100\n",
            "1/1 - 0s - loss: 0.6898 - accuracy: 0.5714 - 5ms/epoch - 5ms/step\n",
            "Epoch 55/100\n",
            "1/1 - 0s - loss: 0.6897 - accuracy: 0.5714 - 4ms/epoch - 4ms/step\n",
            "Epoch 56/100\n",
            "1/1 - 0s - loss: 0.6897 - accuracy: 0.5714 - 4ms/epoch - 4ms/step\n",
            "Epoch 57/100\n",
            "1/1 - 0s - loss: 0.6896 - accuracy: 0.5714 - 3ms/epoch - 3ms/step\n",
            "Epoch 58/100\n",
            "1/1 - 0s - loss: 0.6896 - accuracy: 0.5714 - 2ms/epoch - 2ms/step\n",
            "Epoch 59/100\n",
            "1/1 - 0s - loss: 0.6895 - accuracy: 0.5714 - 5ms/epoch - 5ms/step\n",
            "Epoch 60/100\n",
            "1/1 - 0s - loss: 0.6895 - accuracy: 0.5714 - 4ms/epoch - 4ms/step\n",
            "Epoch 61/100\n",
            "1/1 - 0s - loss: 0.6894 - accuracy: 0.5714 - 5ms/epoch - 5ms/step\n",
            "Epoch 62/100\n",
            "1/1 - 0s - loss: 0.6894 - accuracy: 0.5714 - 3ms/epoch - 3ms/step\n",
            "Epoch 63/100\n",
            "1/1 - 0s - loss: 0.6893 - accuracy: 0.5714 - 5ms/epoch - 5ms/step\n",
            "Epoch 64/100\n",
            "1/1 - 0s - loss: 0.6893 - accuracy: 0.5714 - 3ms/epoch - 3ms/step\n",
            "Epoch 65/100\n",
            "1/1 - 0s - loss: 0.6892 - accuracy: 0.5714 - 4ms/epoch - 4ms/step\n",
            "Epoch 66/100\n",
            "1/1 - 0s - loss: 0.6892 - accuracy: 0.5714 - 3ms/epoch - 3ms/step\n",
            "Epoch 67/100\n",
            "1/1 - 0s - loss: 0.6891 - accuracy: 0.5714 - 6ms/epoch - 6ms/step\n",
            "Epoch 68/100\n",
            "1/1 - 0s - loss: 0.6891 - accuracy: 0.5714 - 4ms/epoch - 4ms/step\n",
            "Epoch 69/100\n",
            "1/1 - 0s - loss: 0.6890 - accuracy: 0.5714 - 3ms/epoch - 3ms/step\n",
            "Epoch 70/100\n",
            "1/1 - 0s - loss: 0.6890 - accuracy: 0.5714 - 5ms/epoch - 5ms/step\n",
            "Epoch 71/100\n",
            "1/1 - 0s - loss: 0.6889 - accuracy: 0.5714 - 6ms/epoch - 6ms/step\n",
            "Epoch 72/100\n",
            "1/1 - 0s - loss: 0.6889 - accuracy: 0.5714 - 7ms/epoch - 7ms/step\n",
            "Epoch 73/100\n",
            "1/1 - 0s - loss: 0.6888 - accuracy: 0.5714 - 3ms/epoch - 3ms/step\n",
            "Epoch 74/100\n",
            "1/1 - 0s - loss: 0.6888 - accuracy: 0.5714 - 3ms/epoch - 3ms/step\n",
            "Epoch 75/100\n",
            "1/1 - 0s - loss: 0.6887 - accuracy: 0.5714 - 3ms/epoch - 3ms/step\n",
            "Epoch 76/100\n",
            "1/1 - 0s - loss: 0.6887 - accuracy: 0.5714 - 7ms/epoch - 7ms/step\n",
            "Epoch 77/100\n",
            "1/1 - 0s - loss: 0.6886 - accuracy: 0.5714 - 3ms/epoch - 3ms/step\n",
            "Epoch 78/100\n",
            "1/1 - 0s - loss: 0.6886 - accuracy: 0.5714 - 4ms/epoch - 4ms/step\n",
            "Epoch 79/100\n",
            "1/1 - 0s - loss: 0.6885 - accuracy: 0.5714 - 5ms/epoch - 5ms/step\n",
            "Epoch 80/100\n",
            "1/1 - 0s - loss: 0.6885 - accuracy: 0.5714 - 3ms/epoch - 3ms/step\n",
            "Epoch 81/100\n",
            "1/1 - 0s - loss: 0.6884 - accuracy: 0.5714 - 5ms/epoch - 5ms/step\n",
            "Epoch 82/100\n",
            "1/1 - 0s - loss: 0.6884 - accuracy: 0.5714 - 3ms/epoch - 3ms/step\n",
            "Epoch 83/100\n",
            "1/1 - 0s - loss: 0.6883 - accuracy: 0.5714 - 5ms/epoch - 5ms/step\n",
            "Epoch 84/100\n",
            "1/1 - 0s - loss: 0.6883 - accuracy: 0.5714 - 4ms/epoch - 4ms/step\n",
            "Epoch 85/100\n",
            "1/1 - 0s - loss: 0.6882 - accuracy: 0.5714 - 4ms/epoch - 4ms/step\n",
            "Epoch 86/100\n",
            "1/1 - 0s - loss: 0.6882 - accuracy: 0.5714 - 5ms/epoch - 5ms/step\n",
            "Epoch 87/100\n",
            "1/1 - 0s - loss: 0.6882 - accuracy: 0.5714 - 4ms/epoch - 4ms/step\n",
            "Epoch 88/100\n",
            "1/1 - 0s - loss: 0.6881 - accuracy: 0.5714 - 6ms/epoch - 6ms/step\n",
            "Epoch 89/100\n",
            "1/1 - 0s - loss: 0.6881 - accuracy: 0.5714 - 8ms/epoch - 8ms/step\n",
            "Epoch 90/100\n",
            "1/1 - 0s - loss: 0.6880 - accuracy: 0.5714 - 4ms/epoch - 4ms/step\n",
            "Epoch 91/100\n",
            "1/1 - 0s - loss: 0.6880 - accuracy: 0.5714 - 3ms/epoch - 3ms/step\n",
            "Epoch 92/100\n",
            "1/1 - 0s - loss: 0.6879 - accuracy: 0.5714 - 5ms/epoch - 5ms/step\n",
            "Epoch 93/100\n",
            "1/1 - 0s - loss: 0.6879 - accuracy: 0.5714 - 3ms/epoch - 3ms/step\n",
            "Epoch 94/100\n",
            "1/1 - 0s - loss: 0.6879 - accuracy: 0.5714 - 3ms/epoch - 3ms/step\n",
            "Epoch 95/100\n",
            "1/1 - 0s - loss: 0.6878 - accuracy: 0.5714 - 4ms/epoch - 4ms/step\n",
            "Epoch 96/100\n",
            "1/1 - 0s - loss: 0.6878 - accuracy: 0.5714 - 9ms/epoch - 9ms/step\n",
            "Epoch 97/100\n",
            "1/1 - 0s - loss: 0.6877 - accuracy: 0.5714 - 4ms/epoch - 4ms/step\n",
            "Epoch 98/100\n",
            "1/1 - 0s - loss: 0.6877 - accuracy: 0.5714 - 5ms/epoch - 5ms/step\n",
            "Epoch 99/100\n",
            "1/1 - 0s - loss: 0.6876 - accuracy: 0.5714 - 4ms/epoch - 4ms/step\n",
            "Epoch 100/100\n",
            "1/1 - 0s - loss: 0.6876 - accuracy: 0.5714 - 6ms/epoch - 6ms/step\n"
          ]
        },
        {
          "output_type": "execute_result",
          "data": {
            "text/plain": [
              "<keras.callbacks.History object at 0x7f0fd4b59810>"
            ]
          },
          "metadata": {},
          "execution_count": 33
        }
      ]
    }
  ]
}