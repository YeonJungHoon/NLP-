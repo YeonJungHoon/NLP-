{
  "nbformat": 4,
  "nbformat_minor": 0,
  "metadata": {
    "colab": {
      "name": "ForthStep(Encoding).ipynb",
      "provenance": [],
      "authorship_tag": "ABX9TyPUJ907ShmmDfv8HUaz85ZT",
      "include_colab_link": true
    },
    "kernelspec": {
      "name": "python3",
      "display_name": "Python 3"
    },
    "language_info": {
      "name": "python"
    }
  },
  "cells": [
    {
      "cell_type": "markdown",
      "metadata": {
        "id": "view-in-github",
        "colab_type": "text"
      },
      "source": [
        "<a href=\"https://colab.research.google.com/github/YeonJungHoon/NLP-/blob/main/ForthStep(Encoding).ipynb\" target=\"_parent\"><img src=\"https://colab.research.google.com/assets/colab-badge.svg\" alt=\"Open In Colab\"/></a>"
      ]
    },
    {
      "cell_type": "code",
      "execution_count": 5,
      "metadata": {
        "colab": {
          "base_uri": "https://localhost:8080/"
        },
        "id": "a4h37ZJ-uVg2",
        "outputId": "fb702eed-ed7e-42d0-c8a7-75f2967ef8a3"
      },
      "outputs": [
        {
          "output_type": "stream",
          "name": "stdout",
          "text": [
            "[nltk_data] Downloading package punkt to /root/nltk_data...\n",
            "[nltk_data]   Package punkt is already up-to-date!\n",
            "[nltk_data] Downloading package stopwords to /root/nltk_data...\n",
            "[nltk_data]   Unzipping corpora/stopwords.zip.\n"
          ]
        }
      ],
      "source": [
        "from typing_extensions import Concatenate\n",
        "import nltk\n",
        "nltk.download('punkt')\n",
        "nltk.download('stopwords')\n",
        "from nltk.tokenize import sent_tokenize\n",
        "from nltk.tokenize import word_tokenize\n",
        "from nltk.corpus import stopwords\n",
        "\n",
        "\n"
      ]
    },
    {
      "cell_type": "code",
      "source": [
        "vocab = {}\n",
        "preprocessed_sentences = []\n",
        "stop_words = set(stopwords.words(\"english\"))\n",
        "raw_text = \"A barber is a person. a barber is good person. a barber is huge person. he Knew A Secret! The Secret He Kept is huge secret. Huge secret. His barber kept his word. a barber kept his word. His barber kept his secret. But keeping and keeping such a huge secret to himself was driving the barber crazy. the barber went up a huge mountain.\"\n",
        "sentences = sent_tokenize(raw_text)\n",
        "\n",
        "for sentence in sentences:\n",
        "  words = word_tokenize(sentence)\n",
        "  result = []\n",
        "  for word in words:\n",
        "    word = word.lower()\n",
        "    if word not in stop_words:\n",
        "      result.append(word)\n",
        "      if word not in vocab:\n",
        "        vocab[word] = 0\n",
        "      vocab[word] +=1\n",
        "  preprocessed_sentences.append(result)\n",
        "print(preprocessed_sentences) \n",
        "\n",
        "print(\"Vocab: {}\".format(vocab))"
      ],
      "metadata": {
        "colab": {
          "base_uri": "https://localhost:8080/"
        },
        "id": "3hbMBEqYw7Qq",
        "outputId": "f7aa6765-b3d8-4bbe-95de-eb256226e994"
      },
      "execution_count": 7,
      "outputs": [
        {
          "output_type": "stream",
          "name": "stdout",
          "text": [
            "[['barber', 'person', '.'], ['barber', 'good', 'person', '.'], ['barber', 'huge', 'person', '.'], ['knew', 'secret', '!'], ['secret', 'kept', 'huge', 'secret', '.'], ['huge', 'secret', '.'], ['barber', 'kept', 'word', '.'], ['barber', 'kept', 'word', '.'], ['barber', 'kept', 'secret', '.'], ['keeping', 'keeping', 'huge', 'secret', 'driving', 'barber', 'crazy', '.'], ['barber', 'went', 'huge', 'mountain', '.']]\n",
            "Vocab: {'barber': 8, 'person': 3, '.': 10, 'good': 1, 'huge': 5, 'knew': 1, 'secret': 6, '!': 1, 'kept': 4, 'word': 2, 'keeping': 2, 'driving': 1, 'crazy': 1, 'went': 1, 'mountain': 1}\n"
          ]
        }
      ]
    },
    {
      "cell_type": "code",
      "source": [
        "vocab_sorted = sorted(vocab.items(), key = lambda x:x[1], reverse = True)\n",
        "print(vocab_sorted)"
      ],
      "metadata": {
        "colab": {
          "base_uri": "https://localhost:8080/"
        },
        "id": "4spKOYa7xFvW",
        "outputId": "4e4fb894-2e1b-49d3-b1f1-7ba88bf72069"
      },
      "execution_count": 8,
      "outputs": [
        {
          "output_type": "stream",
          "name": "stdout",
          "text": [
            "[('.', 10), ('barber', 8), ('secret', 6), ('huge', 5), ('kept', 4), ('person', 3), ('word', 2), ('keeping', 2), ('good', 1), ('knew', 1), ('!', 1), ('driving', 1), ('crazy', 1), ('went', 1), ('mountain', 1)]\n"
          ]
        }
      ]
    },
    {
      "cell_type": "code",
      "source": [
        "word_to_idx = {}\n",
        "i = 0\n",
        "for (word,frequency) in vocab_sorted:\n",
        "  if frequency > 1:\n",
        "    i+=1\n",
        "    word_to_idx[word] = i\n",
        "\n",
        "print(word_to_idx)"
      ],
      "metadata": {
        "colab": {
          "base_uri": "https://localhost:8080/"
        },
        "id": "Zg9Tps10zFeK",
        "outputId": "77541db8-478e-4f9e-d806-e7989b2ba51e"
      },
      "execution_count": 9,
      "outputs": [
        {
          "output_type": "stream",
          "name": "stdout",
          "text": [
            "{'.': 1, 'barber': 2, 'secret': 3, 'huge': 4, 'kept': 5, 'person': 6, 'word': 7, 'keeping': 8}\n"
          ]
        }
      ]
    },
    {
      "cell_type": "code",
      "source": [
        "word_to_idx['<UNK>'] = len(word_to_idx) +1\n",
        "print(word_to_idx)\n",
        "\n"
      ],
      "metadata": {
        "colab": {
          "base_uri": "https://localhost:8080/"
        },
        "id": "-OfKiLc3zvjJ",
        "outputId": "c9660fad-79f3-49a5-c26f-98c41ae299c0"
      },
      "execution_count": 11,
      "outputs": [
        {
          "output_type": "stream",
          "name": "stdout",
          "text": [
            "{'.': 1, 'barber': 2, 'secret': 3, 'huge': 4, 'kept': 5, 'person': 6, 'word': 7, 'keeping': 8, '<UNK>': 9}\n"
          ]
        }
      ]
    },
    {
      "cell_type": "code",
      "source": [
        "encoded_sentences = []\n",
        "for sentence in preprocessed_sentences:\n",
        "    encoded_sentence = []\n",
        "    for word in sentence:\n",
        "        try:\n",
        "            # 단어 집합에 있는 단어라면 해당 단어의 정수를 리턴.\n",
        "            encoded_sentence.append(word_to_idx[word])\n",
        "        except KeyError:\n",
        "            # 만약 단어 집합에 없는 단어라면 'OOV'의 정수를 리턴.\n",
        "            encoded_sentence.append(word_to_idx['<UNK>'])\n",
        "    encoded_sentences.append(encoded_sentence)\n",
        "print(encoded_sentences)\n",
        "    \n",
        "\n",
        "    \n",
        "    \n"
      ],
      "metadata": {
        "colab": {
          "base_uri": "https://localhost:8080/"
        },
        "id": "PGv5p3rY0PvB",
        "outputId": "13bf1c0d-a90a-4cbe-85c0-6baeb31ebbe1"
      },
      "execution_count": 14,
      "outputs": [
        {
          "output_type": "stream",
          "name": "stdout",
          "text": [
            "[[2, 6, 1], [2, 9, 6, 1], [2, 4, 6, 1], [9, 3, 9], [3, 5, 4, 3, 1], [4, 3, 1], [2, 5, 7, 1], [2, 5, 7, 1], [2, 5, 3, 1], [8, 8, 4, 3, 9, 2, 9, 1], [2, 9, 4, 9, 1]]\n"
          ]
        }
      ]
    },
    {
      "cell_type": "markdown",
      "source": [
        "#Counter\n"
      ],
      "metadata": {
        "id": "Rl8G5TCS3GVD"
      }
    },
    {
      "cell_type": "code",
      "source": [
        "from collections import Counter\n",
        "from pprint import pprint\n",
        "pprint(preprocessed_sentences)"
      ],
      "metadata": {
        "colab": {
          "base_uri": "https://localhost:8080/"
        },
        "id": "OczTYhjq3Fyt",
        "outputId": "ff40d9c6-f38b-415e-8ff4-02f304459bd0"
      },
      "execution_count": 16,
      "outputs": [
        {
          "output_type": "stream",
          "name": "stdout",
          "text": [
            "[['barber', 'person', '.'],\n",
            " ['barber', 'good', 'person', '.'],\n",
            " ['barber', 'huge', 'person', '.'],\n",
            " ['knew', 'secret', '!'],\n",
            " ['secret', 'kept', 'huge', 'secret', '.'],\n",
            " ['huge', 'secret', '.'],\n",
            " ['barber', 'kept', 'word', '.'],\n",
            " ['barber', 'kept', 'word', '.'],\n",
            " ['barber', 'kept', 'secret', '.'],\n",
            " ['keeping', 'keeping', 'huge', 'secret', 'driving', 'barber', 'crazy', '.'],\n",
            " ['barber', 'went', 'huge', 'mountain', '.']]\n"
          ]
        }
      ]
    },
    {
      "cell_type": "code",
      "source": [
        "# words = np.hstack(preprocessed_sentences)으로도 수행 가능.\n",
        "all_words_list = sum(preprocessed_sentences, [])\n",
        "#pprint(all_words_list)\n",
        "vocab = Counter(all_words_list)\n",
        "#pprint(vocab)\n",
        "#Counter Module은 단어를 빈도수로 Vocab에 저장해줌.\n",
        "\n",
        "vocab_size =5\n",
        "vocab = vocab.most_common(vocab_size) #빈도 수 상위 5개만 Vocab에 저장\n",
        "#pprint(vocab)\n",
        "\n",
        "word2idx = {}\n",
        "i= 0\n",
        "\n",
        "for (word, frequency) in vocab:\n",
        "  i+=1\n",
        "  word2idx[word] = i\n",
        "\n",
        "print(word2idx) \n"
      ],
      "metadata": {
        "colab": {
          "base_uri": "https://localhost:8080/"
        },
        "id": "bdPdGbZw3ijv",
        "outputId": "20ce52cb-8ac4-4874-a9ff-4eb592abb2f2"
      },
      "execution_count": 27,
      "outputs": [
        {
          "output_type": "stream",
          "name": "stdout",
          "text": [
            "{'.': 1, 'barber': 2, 'secret': 3, 'huge': 4, 'kept': 5}\n"
          ]
        }
      ]
    },
    {
      "cell_type": "markdown",
      "source": [
        "#NLTK (FreqDist)"
      ],
      "metadata": {
        "id": "kSmF8i7p5GV3"
      }
    },
    {
      "cell_type": "code",
      "source": [
        "from nltk import FreqDist\n",
        "import numpy as np\n",
        "# np.hstack으로 문장 구분을 제거\n",
        "vocab = FreqDist(np.hstack(preprocessed_sentences))\n",
        "\n",
        "pprint(vocab)"
      ],
      "metadata": {
        "colab": {
          "base_uri": "https://localhost:8080/"
        },
        "id": "WqlbaniJ5KDa",
        "outputId": "c0ac53c6-8751-4ddc-e8f8-40e0a6b75f5c"
      },
      "execution_count": 29,
      "outputs": [
        {
          "output_type": "stream",
          "name": "stdout",
          "text": [
            "{'!': 1,\n",
            " '.': 10,\n",
            " 'barber': 8,\n",
            " 'crazy': 1,\n",
            " 'driving': 1,\n",
            " 'good': 1,\n",
            " 'huge': 5,\n",
            " 'keeping': 2,\n",
            " 'kept': 4,\n",
            " 'knew': 1,\n",
            " 'mountain': 1,\n",
            " 'person': 3,\n",
            " 'secret': 6,\n",
            " 'went': 1,\n",
            " 'word': 2}\n"
          ]
        }
      ]
    },
    {
      "cell_type": "code",
      "source": [
        "vocab_size = 5\n",
        "vocab = vocab.most_common(vocab_size)\n",
        "pprint(vocab)"
      ],
      "metadata": {
        "colab": {
          "base_uri": "https://localhost:8080/"
        },
        "id": "UtjM4BCo5XRH",
        "outputId": "261a2f45-aa23-4109-d0de-156c8eb5078d"
      },
      "execution_count": 30,
      "outputs": [
        {
          "output_type": "stream",
          "name": "stdout",
          "text": [
            "[('.', 10), ('barber', 8), ('secret', 6), ('huge', 5), ('kept', 4)]\n"
          ]
        }
      ]
    },
    {
      "cell_type": "code",
      "source": [
        "word2idx = {}\n",
        "i = 0 \n",
        "word2idx = {word[0]:index+1 for index , word in enumerate(vocab)}\n",
        "pprint(word2idx)"
      ],
      "metadata": {
        "colab": {
          "base_uri": "https://localhost:8080/"
        },
        "id": "U_4AT3X05cPG",
        "outputId": "14e4a0e1-36dc-4a67-9e58-b972f4c072ee"
      },
      "execution_count": 32,
      "outputs": [
        {
          "output_type": "stream",
          "name": "stdout",
          "text": [
            "{'.': 1, 'barber': 2, 'huge': 4, 'kept': 5, 'secret': 3}\n"
          ]
        }
      ]
    },
    {
      "cell_type": "markdown",
      "source": [
        "#Keras PreProcessing"
      ],
      "metadata": {
        "id": "Q__ImyU16Mdx"
      }
    },
    {
      "cell_type": "code",
      "source": [
        "from tensorflow.keras.preprocessing.text import Tokenizer\n",
        "preprocessed_sentences = [['barber', 'person'], ['barber', 'good', 'person'], ['barber', 'huge', 'person'], ['knew', 'secret'], ['secret', 'kept', 'huge', 'secret'], ['huge', 'secret'], ['barber', 'kept', 'word'], ['barber', 'kept', 'word'], ['barber', 'kept', 'secret'], ['keeping', 'keeping', 'huge', 'secret', 'driving', 'barber', 'crazy'], ['barber', 'went', 'huge', 'mountain']]\n",
        "tokenizer = Tokenizer()\n",
        "# fit_on_texts()안에 코퍼스를 입력으로 하면 빈도수를 기준으로 단어 집합을 생성.\n",
        "tokenizer.fit_on_texts(preprocessed_sentences)\n",
        "#각 단어에 인덱스가 어떻게 부여되었는지를 보려면, word_index를 사용합니다.\n",
        "pprint(tokenizer.word_index)\n",
        "#각 단어가 카운트를 수행하였을 때 몇 개였는지를 보고자 한다면 word_counts를 사용합니다.\n",
        "pprint(tokenizer.word_counts)\n",
        "\n",
        "#texts_to_sequences()는 입력으로 들어온 코퍼스에 대해서 각 단어를 이미 정해진 인덱스로 변환합니다.\n",
        "#이미 Vocab이 존재해서 그 Vocab에 맞는 Index로 변환\n",
        "pprint(tokenizer.texts_to_sequences(preprocessed_sentences))\n"
      ],
      "metadata": {
        "colab": {
          "base_uri": "https://localhost:8080/"
        },
        "id": "ykkM9_rn6PAH",
        "outputId": "c85c74a8-a97c-4d40-e491-958f6c91eae3"
      },
      "execution_count": 37,
      "outputs": [
        {
          "output_type": "stream",
          "name": "stdout",
          "text": [
            "{'barber': 1,\n",
            " 'crazy': 11,\n",
            " 'driving': 10,\n",
            " 'good': 8,\n",
            " 'huge': 3,\n",
            " 'keeping': 7,\n",
            " 'kept': 4,\n",
            " 'knew': 9,\n",
            " 'mountain': 13,\n",
            " 'person': 5,\n",
            " 'secret': 2,\n",
            " 'went': 12,\n",
            " 'word': 6}\n",
            "OrderedDict([('barber', 8),\n",
            "             ('person', 3),\n",
            "             ('good', 1),\n",
            "             ('huge', 5),\n",
            "             ('knew', 1),\n",
            "             ('secret', 6),\n",
            "             ('kept', 4),\n",
            "             ('word', 2),\n",
            "             ('keeping', 2),\n",
            "             ('driving', 1),\n",
            "             ('crazy', 1),\n",
            "             ('went', 1),\n",
            "             ('mountain', 1)])\n",
            "[[1, 5],\n",
            " [1, 8, 5],\n",
            " [1, 3, 5],\n",
            " [9, 2],\n",
            " [2, 4, 3, 2],\n",
            " [3, 2],\n",
            " [1, 4, 6],\n",
            " [1, 4, 6],\n",
            " [1, 4, 2],\n",
            " [7, 7, 3, 2, 10, 1, 11],\n",
            " [1, 12, 3, 13]]\n"
          ]
        }
      ]
    },
    {
      "cell_type": "code",
      "source": [
        "\"\"\"앞서 빈도수가 가장 높은 단어 n개만을 사용하기 위해서 most_common()을 사용했었습니다. \n",
        "케라스 토크나이저에서는 tokenizer = Tokenizer(num_words=숫자)와 같은 방법으로 빈도수가 높은 상위 몇 개의 단어만 사용하겠다고 지정할 수 있습니다. \n",
        "여기서는 1번 단어부터 5번 단어까지만 사용하겠습니다. \n",
        "상위 5개 단어를 사용한다고 토크나이저를 재정의 해보겠습니다.\n",
        "\"\"\"\n",
        "vocab_size = 5\n",
        "tokenizer = Tokenizer(num_words= vocab_size +1)\n",
        "tokenizer.fit_on_texts(preprocessed_sentences)\n",
        "pprint(tokenizer.word_index)"
      ],
      "metadata": {
        "colab": {
          "base_uri": "https://localhost:8080/"
        },
        "id": "6KxtrJ9a7RgP",
        "outputId": "30607d8d-40d9-4e69-ff68-10425428806e"
      },
      "execution_count": 39,
      "outputs": [
        {
          "output_type": "stream",
          "name": "stdout",
          "text": [
            "{'barber': 1,\n",
            " 'crazy': 11,\n",
            " 'driving': 10,\n",
            " 'good': 8,\n",
            " 'huge': 3,\n",
            " 'keeping': 7,\n",
            " 'kept': 4,\n",
            " 'knew': 9,\n",
            " 'mountain': 13,\n",
            " 'person': 5,\n",
            " 'secret': 2,\n",
            " 'went': 12,\n",
            " 'word': 6}\n"
          ]
        }
      ]
    },
    {
      "cell_type": "markdown",
      "source": [
        "#정리"
      ],
      "metadata": {
        "id": "xwrS_XB08p_i"
      }
    },
    {
      "cell_type": "code",
      "source": [
        "\"\"\"Keras 에서 Tokenizer.fit_on_texts는 각 단어의 빈도수와 그에 따른 indexing을 해주는 과정이고\n",
        "fit_on_sequences는 Vocab에서 각 단어에 해당한는 index를 지정해 주는 작업이다.\n",
        "처음 Tokenizer(num_words)에서 num_words에 해당하는 상위 빈도수의 단어들을 가지고 왔을 때 \n",
        "그 작업은 fit_on_sequences에서 적용이 된다.\n",
        "oov_token = \"OOV\"는 num_words 뒤에 붙어서 제거 되는 단어가 없게 한다.\n",
        "\"\"\""
      ],
      "metadata": {
        "id": "B5zutqMC8oKk"
      },
      "execution_count": null,
      "outputs": []
    }
  ]
}