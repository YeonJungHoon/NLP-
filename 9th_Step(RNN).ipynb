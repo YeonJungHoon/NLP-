{
  "nbformat": 4,
  "nbformat_minor": 0,
  "metadata": {
    "colab": {
      "name": "9th Step(RNN).ipynb",
      "provenance": [],
      "authorship_tag": "ABX9TyOUZu/NYHHKzVSL5gpgVe3t",
      "include_colab_link": true
    },
    "kernelspec": {
      "name": "python3",
      "display_name": "Python 3"
    },
    "language_info": {
      "name": "python"
    }
  },
  "cells": [
    {
      "cell_type": "markdown",
      "metadata": {
        "id": "view-in-github",
        "colab_type": "text"
      },
      "source": [
        "<a href=\"https://colab.research.google.com/github/YeonJungHoon/NLP-/blob/main/9th_Step(RNN).ipynb\" target=\"_parent\"><img src=\"https://colab.research.google.com/assets/colab-badge.svg\" alt=\"Open In Colab\"/></a>"
      ]
    },
    {
      "cell_type": "code",
      "execution_count": 7,
      "metadata": {
        "colab": {
          "base_uri": "https://localhost:8080/"
        },
        "id": "Mz9yOxn1jW6p",
        "outputId": "aa7636f3-227c-4301-a031-cfa3cb99661f"
      },
      "outputs": [
        {
          "output_type": "stream",
          "name": "stdout",
          "text": [
            "Model: \"sequential_6\"\n",
            "_________________________________________________________________\n",
            " Layer (type)                Output Shape              Param #   \n",
            "=================================================================\n",
            " simple_rnn_7 (SimpleRNN)    (8, 2, 3)                 72        \n",
            "                                                                 \n",
            "=================================================================\n",
            "Total params: 72\n",
            "Trainable params: 72\n",
            "Non-trainable params: 0\n",
            "_________________________________________________________________\n"
          ]
        }
      ],
      "source": [
        "from tensorflow.keras.layers import SimpleRNN\n",
        "from tensorflow.keras.models import Sequential\n",
        "model = Sequential()\n",
        "model.add(SimpleRNN(3, batch_input_shape = (8,2,20), return_sequences = True))\n",
        "model.summary()\n"
      ]
    },
    {
      "cell_type": "code",
      "source": [
        "import numpy as np\n",
        "\n",
        "timesteps = 10\n",
        "input_dim = 4\n",
        "hidden_units = 8\n",
        "\n",
        "inputs = np.random.random((timesteps, input_dim))\n",
        "\n",
        "hidden_state_t = np.zeros((hidden_units,))\n",
        "\n",
        "print('초기 은닉 상태: {}'.format(hidden_state_t))"
      ],
      "metadata": {
        "colab": {
          "base_uri": "https://localhost:8080/"
        },
        "id": "kxe7v5O4tfgR",
        "outputId": "63784305-bb02-4d56-9048-d955dc98789d"
      },
      "execution_count": 8,
      "outputs": [
        {
          "output_type": "stream",
          "name": "stdout",
          "text": [
            "초기 은닉 상태: [0. 0. 0. 0. 0. 0. 0. 0.]\n"
          ]
        }
      ]
    },
    {
      "cell_type": "code",
      "source": [
        "Wx = np.random.random((hidden_units, input_dim))\n",
        "Wh = np.random.random((hidden_units, hidden_units))\n",
        "b = np.random.random((hidden_units,))\n",
        "\n",
        "print('가중치 Wx의 크기: {}'.format(Wx.shape))\n",
        "print('가중치 Wh의 크기: {}'.format(Wh.shape))\n",
        "print('평향 값의 크기: {}'.format(b.shape))"
      ],
      "metadata": {
        "colab": {
          "base_uri": "https://localhost:8080/"
        },
        "id": "-Yahjediuwgy",
        "outputId": "8e9f46de-9896-4ee9-98f4-c7a65632006d"
      },
      "execution_count": 10,
      "outputs": [
        {
          "output_type": "stream",
          "name": "stdout",
          "text": [
            "가중치 Wx의 크기: (8, 4)\n",
            "가중치 Wh의 크기: (8, 8)\n",
            "평향 값의 크기: (8,)\n"
          ]
        }
      ]
    },
    {
      "cell_type": "code",
      "source": [
        "total_hidden_states = []\n",
        "\n",
        "for input_t in inputs:\n",
        "  output_t = np.tanh(np.dot(Wx,input_t) + np.dot(Wh, hidden_state_t) + b)\n",
        "  \n",
        "  total_hidden_states.append(list(output_t))\n",
        "  hidden_state_t = output_t\n",
        "  \n",
        "total_hidden_states = np.stack(total_hidden_states, axis = 0)\n",
        "\n",
        "print(\"모든 은닉 시점의 상태: \\n{}\".format(total_hidden_states))"
      ],
      "metadata": {
        "colab": {
          "base_uri": "https://localhost:8080/"
        },
        "id": "asxz278fvuti",
        "outputId": "fa157bb9-f60b-449c-c725-fc7ab48e2adb"
      },
      "execution_count": 14,
      "outputs": [
        {
          "output_type": "stream",
          "name": "stdout",
          "text": [
            "모든 은닉 시점의 상태: \n",
            "[[0.9999905  0.99986443 0.99996008 0.99984176 0.99947672 0.99994474\n",
            "  0.99999776 0.99986095]\n",
            " [0.9999957  0.99989805 0.99999432 0.99997845 0.99984931 0.9999584\n",
            "  0.99999963 0.99993056]\n",
            " [0.99999246 0.9998693  0.99998017 0.99992342 0.99968665 0.99994734\n",
            "  0.99999868 0.99989485]\n",
            " [0.99999609 0.99989767 0.99999545 0.99998356 0.99984836 0.99995233\n",
            "  0.99999965 0.99994146]\n",
            " [0.99999324 0.9999195  0.99999259 0.99994819 0.99980872 0.99995695\n",
            "  0.99999942 0.99987689]\n",
            " [0.99999434 0.99989527 0.99999442 0.99997271 0.99989145 0.99996032\n",
            "  0.99999953 0.99991528]\n",
            " [0.99998642 0.99988261 0.99995734 0.99972801 0.9994645  0.99994169\n",
            "  0.99999688 0.99979693]\n",
            " [0.99999577 0.99990895 0.99999715 0.99998594 0.99993817 0.99996994\n",
            "  0.99999979 0.99992766]\n",
            " [0.99999444 0.99987622 0.9999889  0.99996146 0.99982122 0.99995969\n",
            "  0.99999935 0.99991556]\n",
            " [0.999996   0.99990591 0.99999695 0.99998649 0.99991416 0.9999622\n",
            "  0.99999975 0.99993674]]\n"
          ]
        }
      ]
    },
    {
      "cell_type": "markdown",
      "source": [
        "#양방향 순환 신경망"
      ],
      "metadata": {
        "id": "kxYyar8hyZNL"
      }
    },
    {
      "cell_type": "code",
      "source": [
        "from tensorflow.keras.layers import Bidirectioanal\n",
        "\n",
        "timesteps = 10\n",
        "input_dim = 5\n",
        "\n",
        "model = Sequential()\n",
        "#model.add(Bidirectional(SimpleRNN(hidden_units, return_sequences=True), input_shape=(timesteps, input_dim)))"
      ],
      "metadata": {
        "id": "fRXOrourwtuE"
      },
      "execution_count": null,
      "outputs": []
    },
    {
      "cell_type": "markdown",
      "source": [
        "#LSTM"
      ],
      "metadata": {
        "id": "QVUfCyLbzkdJ"
      }
    },
    {
      "cell_type": "code",
      "source": [
        "import numpy as np\n",
        "import tensorflow as tf\n",
        "from tensorflow.keras.layers import SimpleRNN, LSTM, Bidirectional\n",
        "\n",
        "train_X = [[0.1, 4.2, 1.5, 1.1, 2.8], [1.0, 3.1, 2.5, 0.7, 1.1], [0.3, 2.1, 1.5, 2.1, 0.1], [2.2, 1.4, 0.5, 0.9, 1.1]]\n",
        "print(np.shape(train_X))"
      ],
      "metadata": {
        "colab": {
          "base_uri": "https://localhost:8080/"
        },
        "id": "hliq_WFVzldx",
        "outputId": "41649757-18bd-46ed-bcd5-21170c33fc8b"
      },
      "execution_count": 15,
      "outputs": [
        {
          "output_type": "stream",
          "name": "stdout",
          "text": [
            "(4, 5)\n"
          ]
        }
      ]
    },
    {
      "cell_type": "code",
      "source": [
        "train_X = [[[0.1, 4.2, 1.5, 1.1, 2.8], [1.0, 3.1, 2.5, 0.7, 1.1], [0.3, 2.1, 1.5, 2.1, 0.1], [2.2, 1.4, 0.5, 0.9, 1.1]]]\n",
        "train_X = np.array(train_X, dtype = np.float32)\n",
        "print(train_X.shape)"
      ],
      "metadata": {
        "colab": {
          "base_uri": "https://localhost:8080/"
        },
        "id": "eyZp1R-W2mxT",
        "outputId": "f965018a-39dd-44bb-c6eb-9cc5904bec12"
      },
      "execution_count": 17,
      "outputs": [
        {
          "output_type": "stream",
          "name": "stdout",
          "text": [
            "(1, 4, 5)\n"
          ]
        }
      ]
    },
    {
      "cell_type": "code",
      "source": [
        "rnn = SimpleRNN(3, return_sequences=True)\n",
        "hidden_state = rnn(train_X)\n",
        "print('hidden_state: \\n{}, shape: {}'.format(hidden_state, hidden_state.shape))\n"
      ],
      "metadata": {
        "colab": {
          "base_uri": "https://localhost:8080/"
        },
        "id": "0XpZDGWb22Z5",
        "outputId": "4ff1927c-121c-45ce-b08a-c2f79783a919"
      },
      "execution_count": 22,
      "outputs": [
        {
          "output_type": "stream",
          "name": "stdout",
          "text": [
            "hidden_state: \n",
            "[[[ 0.9731527  -0.23259851  0.9003294 ]\n",
            "  [ 0.612234   -0.9742988   0.37253386]\n",
            "  [ 0.03955299 -0.9906791  -0.6658047 ]\n",
            "  [ 0.2162293  -0.9814135   0.86419964]]], shape: (1, 4, 3)\n"
          ]
        }
      ]
    },
    {
      "cell_type": "code",
      "source": [
        "rnn = SimpleRNN(3, return_sequences = True, return_state = True)\n",
        "hidden_states, last_state = rnn(train_X)\n",
        "\n",
        "print('hidden_state: \\n{}, shape: {}'.format(hidden_states, hidden_states.shape))\n",
        "print('last_state: {}, shape: {}'.format(last_state, last_state.shape))"
      ],
      "metadata": {
        "colab": {
          "base_uri": "https://localhost:8080/"
        },
        "id": "0sH5oOIh3pJj",
        "outputId": "c6c8320e-e011-4424-cd3f-468d5399a54f"
      },
      "execution_count": 21,
      "outputs": [
        {
          "output_type": "stream",
          "name": "stdout",
          "text": [
            "hidden_state: \n",
            "[[[ 0.99990755 -0.91012466  0.98509073]\n",
            "  [ 0.98333395  0.38933766  0.99321383]\n",
            "  [ 0.9545231  -0.9378206   0.7804031 ]\n",
            "  [ 0.65550745  0.47128794  0.9567648 ]]], shape: (1, 4, 3)\n",
            "last_state: [[0.65550745 0.47128794 0.9567648 ]], shape: (1, 3)\n"
          ]
        }
      ]
    },
    {
      "cell_type": "markdown",
      "source": [
        "#LSTM"
      ],
      "metadata": {
        "id": "MZu0wGxS4Kks"
      }
    },
    {
      "cell_type": "code",
      "source": [
        "lstm = LSTM(3, return_sequences = False, return_state = True)\n",
        "hidden_state, last_state, last_cell_state = lstm(train_X)\n",
        "\n",
        "print('hidden state : {}, shape: {}'.format(hidden_state, hidden_state.shape))\n",
        "print('last hidden state : {}, shape: {}'.format(last_state, last_state.shape))\n",
        "print('last cell state : {}, shape: {}'.format(last_cell_state, last_cell_state.shape))\n",
        "\n",
        "\n"
      ],
      "metadata": {
        "colab": {
          "base_uri": "https://localhost:8080/"
        },
        "id": "0lmmuUen4Lh8",
        "outputId": "7989fee3-539c-4c89-b233-9bb030ec3548"
      },
      "execution_count": 23,
      "outputs": [
        {
          "output_type": "stream",
          "name": "stdout",
          "text": [
            "hidden state : [[-0.25434133 -0.44728935  0.18457057]], shape: (1, 3)\n",
            "last hidden state : [[-0.25434133 -0.44728935  0.18457057]], shape: (1, 3)\n",
            "last cell state : [[-0.77042234 -0.81168586  0.5911325 ]], shape: (1, 3)\n"
          ]
        }
      ]
    },
    {
      "cell_type": "code",
      "source": [
        "lstm = LSTM(3, return_sequences=True, return_state=True)\n",
        "hidden_states, last_hidden_state, last_cell_state = lstm(train_X)\n",
        "\n",
        "print('hidden states : {}, shape: {}'.format(hidden_states, hidden_states.shape))\n",
        "print('last hidden state : {}, shape: {}'.format(last_hidden_state, last_hidden_state.shape))\n",
        "print('last cell state : {}, shape: {}'.format(last_cell_state, last_cell_state.shape))"
      ],
      "metadata": {
        "colab": {
          "base_uri": "https://localhost:8080/"
        },
        "id": "ZMxpXzk-4lL1",
        "outputId": "a0389e6c-9657-4be7-810c-9faa2994688e"
      },
      "execution_count": 24,
      "outputs": [
        {
          "output_type": "stream",
          "name": "stdout",
          "text": [
            "hidden states : [[[-2.6870275e-01  5.7596981e-04 -5.1562572e-01]\n",
            "  [-3.7434039e-01  1.3531194e-02 -5.5515325e-01]\n",
            "  [-4.6170062e-01 -7.8548174e-03 -5.2133512e-01]\n",
            "  [-3.9652446e-01 -1.0455639e-01 -5.8645195e-01]]], shape: (1, 4, 3)\n",
            "last hidden state : [[-0.39652446 -0.10455639 -0.58645195]], shape: (1, 3)\n",
            "last cell state : [[-0.93102014 -0.20873393 -2.0938463 ]], shape: (1, 3)\n"
          ]
        }
      ]
    },
    {
      "cell_type": "markdown",
      "source": [
        "#Bidirectional(LSTM)"
      ],
      "metadata": {
        "id": "mGt113PF4zEb"
      }
    },
    {
      "cell_type": "code",
      "source": [
        "k_init = tf.keras.initializers.Constant(value = 0.1)\n",
        "b_init = tf.keras.initializers.Constant(value = 0)\n",
        "r_init = tf.keras.initializers.Constant(value = 0.1)\n",
        "\n"
      ],
      "metadata": {
        "id": "cyabBXEd41jz"
      },
      "execution_count": 25,
      "outputs": []
    },
    {
      "cell_type": "code",
      "source": [
        "bilstm = Bidirectional(LSTM(3, return_sequences = False, return_state = True, kernel_initializer= k_init, bias_initializer = b_init, recurrent_initializer= r_init))\n",
        "hidden_states, forward_h, forward_c, backward_h, backward_c = bilstm(train_X)\n",
        "print('hidden states : {}, shape: {}'.format(hidden_states, hidden_states.shape))\n",
        "print('forward state : {}, shape: {}'.format(forward_h, forward_h.shape))\n",
        "print('backward state : {}, shape: {}'.format(backward_h, backward_h.shape))"
      ],
      "metadata": {
        "colab": {
          "base_uri": "https://localhost:8080/"
        },
        "id": "oqHrPXgs5IJz",
        "outputId": "5b9040e8-2750-46a1-f7ec-995a7cba8a5d"
      },
      "execution_count": 28,
      "outputs": [
        {
          "output_type": "stream",
          "name": "stdout",
          "text": [
            "hidden states : [[0.63031393 0.63031393 0.63031393 0.7038734  0.7038734  0.7038734 ]], shape: (1, 6)\n",
            "forward state : [[0.63031393 0.63031393 0.63031393]], shape: (1, 3)\n",
            "backward state : [[0.7038734 0.7038734 0.7038734]], shape: (1, 3)\n"
          ]
        }
      ]
    }
  ]
}