{
  "nbformat": 4,
  "nbformat_minor": 0,
  "metadata": {
    "colab": {
      "name": "ThirdStep(Regular Expression).ipynb",
      "provenance": [],
      "authorship_tag": "ABX9TyPwHzD/pVWnlhQQugokgUTt",
      "include_colab_link": true
    },
    "kernelspec": {
      "name": "python3",
      "display_name": "Python 3"
    },
    "language_info": {
      "name": "python"
    }
  },
  "cells": [
    {
      "cell_type": "markdown",
      "metadata": {
        "id": "view-in-github",
        "colab_type": "text"
      },
      "source": [
        "<a href=\"https://colab.research.google.com/github/YeonJungHoon/NLP-/blob/main/ThirdStep(Regular_Expression).ipynb\" target=\"_parent\"><img src=\"https://colab.research.google.com/assets/colab-badge.svg\" alt=\"Open In Colab\"/></a>"
      ]
    },
    {
      "cell_type": "code",
      "execution_count": 16,
      "metadata": {
        "colab": {
          "base_uri": "https://localhost:8080/"
        },
        "id": "omNzpEeFUgTQ",
        "outputId": "6cc7bd24-d0b5-4bb5-c7a1-28e84a0e6f5f"
      },
      "outputs": [
        {
          "output_type": "stream",
          "name": "stdout",
          "text": [
            "<re.Match object; span=(0, 3), match='abc'>\n",
            "<re.Match object; span=(0, 8), match='abbbbbbc'>\n",
            "None\n",
            "None\n",
            "<re.Match object; span=(0, 2), match='ab'>\n",
            "<re.Match object; span=(0, 5), match='abbbc'>\n",
            "None\n",
            "<re.Match object; span=(0, 5), match='abbbc'>\n",
            "None\n",
            "<re.Match object; span=(0, 4), match='abkc'>\n",
            "<re.Match object; span=(1, 2), match='k'>\n",
            "<re.Match object; span=(0, 1), match='x'>\n"
          ]
        }
      ],
      "source": [
        "import re\n",
        "r = re.compile(\"a.c\")\n",
        "#r.search(\"kkk\")\n",
        "#print(r.match('abc'))\n",
        "#print(r.search('abc'))\n",
        "\n",
        "r = re.compile(\"ab?c\")\n",
        "print(r.search(\"abc\"))\n",
        "\n",
        "r = re.compile(\"ab*c\")\n",
        "print(r.search(\"abbbbbbc\"))\n",
        "\n",
        "r = re.compile(\"ab+c\")\n",
        "print(r.search(\"ac\"))\n",
        "\n",
        "r = re.compile(\"^ab\")\n",
        "\n",
        "print(r.search('bbc'))\n",
        "print(r.search('abwwqa'))\n",
        "\n",
        "r = re.compile(\"ab{3}c\")\n",
        "print(r.search('abbbc'))\n",
        "print(r.search('abc'))\n",
        "\n",
        "r = re.compile(\"ab{2,8}c\")\n",
        "print(r.search('abbbc'))\n",
        "\n",
        "r = re.compile(\"ab[b-z]c\")\n",
        "print(r.search('abac'))\n",
        "print(r.search('abkc'))\n",
        "\n",
        "r = re.compile('[^abc]')\n",
        "print(r.search('bk'))\n",
        "print(r.search('xyz'))\n",
        "\n"
      ]
    },
    {
      "cell_type": "code",
      "source": [
        "text = \"사과 딸기 수박 메론 바나나\"\n",
        "re.split(' ', text)"
      ],
      "metadata": {
        "colab": {
          "base_uri": "https://localhost:8080/"
        },
        "id": "G9zW-hE5XHz3",
        "outputId": "22bc509b-17ab-454a-cb7c-a61f0a0c8f78"
      },
      "execution_count": 19,
      "outputs": [
        {
          "output_type": "execute_result",
          "data": {
            "text/plain": [
              "['사과', '딸기', '수박', '메론', '바나나']"
            ]
          },
          "metadata": {},
          "execution_count": 19
        }
      ]
    },
    {
      "cell_type": "code",
      "source": [
        "text = \"\"\"이름 : 김철수\n",
        "전화번호 : 010 - 1234 - 1234\n",
        "나이 : 30\n",
        "성별 : 남\"\"\"\n",
        "\n",
        "re.findall(\"\\d+\", text)"
      ],
      "metadata": {
        "colab": {
          "base_uri": "https://localhost:8080/"
        },
        "id": "A5aPalzGXV0d",
        "outputId": "88aeda0c-ba29-4e71-daa8-a902cbf21b64"
      },
      "execution_count": 20,
      "outputs": [
        {
          "output_type": "execute_result",
          "data": {
            "text/plain": [
              "['010', '1234', '1234', '30']"
            ]
          },
          "metadata": {},
          "execution_count": 20
        }
      ]
    }
  ]
}